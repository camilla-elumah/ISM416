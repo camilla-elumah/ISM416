{
 "cells": [
  {
   "cell_type": "markdown",
   "metadata": {},
   "source": [
    "# `Note:` All assignment should be done inside the notebook (Double tap on each of this text to edit)."
   ]
  },
  {
   "cell_type": "markdown",
   "metadata": {},
   "source": [
    "### `Question 1`: Write your full name and your   \n",
    "### Matriculation number"
   ]
  },
  {
   "cell_type": "raw",
   "metadata": {},
   "source": [
    "Isioma Elumah Anna 17100310861"
   ]
  },
  {
   "cell_type": "markdown",
   "metadata": {},
   "source": [
    "### `Question 2`: What do you understand by natural language processing ?"
   ]
  },
  {
   "cell_type": "raw",
   "metadata": {},
   "source": [
    "Natural Language Processing is very much linked with machine learning.It is a branch of computer science that deals with giving computers the ability to understand text and verbal language as naturally as human beings can. Natuaral Language Processing is a combination of computational linguistics with statistical machine learning and deep learning models. Several applications  of Natural Language Processing include speech recognition, word disambiguation, sentiment analysis and natural language generation. The main aim of NLP is to identify, compare, comprehend and make sense of the human languages in such a way that it adds value. It is a technology used to assist computers to understand the natural languages that human beings speak or write down. \n",
    "\n",
    "Some uses of Natural Language Processing include; It helps the computers to understant texts, interpret speech and to measure sentiments.\n",
    "It is also used for structuring unstructured dataand it helps settle ambiguity in  the diversity of human languages.\n",
    "\n",
    "Natural Language processing works by applying algorithms to know and extract the natural language rules in order to convert it into data that the computer understands. techniques used in natural language processing include syntactic analysis and semantic analysis. Syntactical analysis connotes the arrangement of words, characters and letters in such a manner that they make grammatical sense. Semantic ananlysis deals with the application of computer algorithms to generate the meaning of words and how natural sentences are structured.\n"
   ]
  },
  {
   "cell_type": "markdown",
   "metadata": {},
   "source": [
    "### `Question 3`: List some of the applications of natural language processing"
   ]
  },
  {
   "cell_type": "raw",
   "metadata": {},
   "source": [
    "Applications of natural language processing include:\n",
    "    Email filters,\n",
    "    smart assistants,\n",
    "    Search results on Search engines,\n",
    "    Language translation,\n",
    "    Digital phone calls,\n",
    "    Predictive text,\n",
    "    Data analysis,\n",
    "    Text analytics.\n",
    "    \n",
    "Email filters such as spam filters which scans through the email messages to uncover words and phrases that signal a spam message.\n",
    "\n",
    "Smart assistants make use of the speech recognition application of NLP to derive meaning and then provide a valuable response to the user.\n",
    "\n",
    "Predictive text addresses issues such as autocorrect and autocomplete which are commonly found in smartphones or search engines.\n",
    "\n",
    "Language translation, with the aid of NLP, recognize languages based on inputted text and translates them from one human language to another.\n",
    "\n",
    "Digital phone calls occur when automated computer systems push customer calls to a service representative or online chatbot that responds to customer requests with helpful knowledge.\n",
    "\n",
    "Text analytics aid in the coversion of unstructured data into meaningful data for analysis using different NLP techniques."
   ]
  },
  {
   "cell_type": "markdown",
   "metadata": {},
   "source": [
    "### `Question 4`: What are some of the challenges of NLP?"
   ]
  },
  {
   "cell_type": "raw",
   "metadata": {},
   "source": [
    "NLP faces several challenges such as having some rules that are low-levelled e.g using the character 's' to signify the plurality of items. It is easier for human beings to master a language, however it is much harder to master languages in NLP because of the ambigiuty and imprecise characteristics of the natural language.\n",
    "\n",
    "Several other challenges of NLP;\n",
    "Ambiguity (sentences that have several two or more possible interpretations),\n",
    "\n",
    "Error in text or speech (misspelt words or misused words hinder the text analysis process),\n",
    "\n",
    "Colloquialisms and slangs (some of these expressions and cultural-specific lingo/slangs that have no or vague dictionary definition),\n",
    "\n",
    "Low-resource languages (Many languages that have less access to technology are often neglected and under processed),\n",
    "\n",
    "Irony and sarcasm (They make words and phrases have the oppposite meanning of its original dictionary definition causing serious machine learning model problems),\n",
    "\n",
    "Synoyms (Words with similiar meanings can cause mistakes in the text analysis models form in Natural Language Processing)\n"
   ]
  },
  {
   "cell_type": "markdown",
   "metadata": {},
   "source": [
    "### `Question 5`: Using some of the string operations learnt from this weeks topic (like: `set(), istitle(), split(), replace(), etc.`)\n",
    "### Declear 4 different strings (sentences) and apply the functions/methods."
   ]
  },
  {
   "cell_type": "markdown",
   "metadata": {},
   "source": [
    ">>>> # Have a wonderful week ahead."
   ]
  },
  {
   "cell_type": "code",
   "execution_count": 1,
   "metadata": {},
   "outputs": [],
   "source": [
    "NLP = \"The short form abbreviation of Natural Language Processing\""
   ]
  },
  {
   "cell_type": "code",
   "execution_count": 2,
   "metadata": {},
   "outputs": [
    {
     "data": {
      "text/plain": [
       "58"
      ]
     },
     "execution_count": 2,
     "metadata": {},
     "output_type": "execute_result"
    }
   ],
   "source": [
    "len(NLP) #this shows the total count of characters in the string including the white spaces"
   ]
  },
  {
   "cell_type": "code",
   "execution_count": 1,
   "metadata": {},
   "outputs": [],
   "source": [
    "M = \"Machine learning is so fun. Learning natural languages makes computers easier.\""
   ]
  },
  {
   "cell_type": "code",
   "execution_count": 2,
   "metadata": {},
   "outputs": [
    {
     "data": {
      "text/plain": [
       "78"
      ]
     },
     "execution_count": 2,
     "metadata": {},
     "output_type": "execute_result"
    }
   ],
   "source": [
    "len(M)"
   ]
  },
  {
   "cell_type": "code",
   "execution_count": 3,
   "metadata": {},
   "outputs": [],
   "source": [
    "M_no_space = M.split(' ') # used to count only the words and eliminate the characters."
   ]
  },
  {
   "cell_type": "code",
   "execution_count": 4,
   "metadata": {},
   "outputs": [
    {
     "data": {
      "text/plain": [
       "['Machine',\n",
       " 'learning',\n",
       " 'is',\n",
       " 'so',\n",
       " 'fun.',\n",
       " 'Learning',\n",
       " 'natural',\n",
       " 'languages',\n",
       " 'makes',\n",
       " 'computers',\n",
       " 'easier.']"
      ]
     },
     "execution_count": 4,
     "metadata": {},
     "output_type": "execute_result"
    }
   ],
   "source": [
    "M_no_space"
   ]
  },
  {
   "cell_type": "code",
   "execution_count": 5,
   "metadata": {},
   "outputs": [
    {
     "data": {
      "text/plain": [
       "11"
      ]
     },
     "execution_count": 5,
     "metadata": {},
     "output_type": "execute_result"
    }
   ],
   "source": [
    "len(M_no_space)"
   ]
  },
  {
   "cell_type": "code",
   "execution_count": 6,
   "metadata": {},
   "outputs": [
    {
     "data": {
      "text/plain": [
       "{' ',\n",
       " '.',\n",
       " 'L',\n",
       " 'M',\n",
       " 'a',\n",
       " 'c',\n",
       " 'e',\n",
       " 'f',\n",
       " 'g',\n",
       " 'h',\n",
       " 'i',\n",
       " 'k',\n",
       " 'l',\n",
       " 'm',\n",
       " 'n',\n",
       " 'o',\n",
       " 'p',\n",
       " 'r',\n",
       " 's',\n",
       " 't',\n",
       " 'u'}"
      ]
     },
     "execution_count": 6,
     "metadata": {},
     "output_type": "execute_result"
    }
   ],
   "source": [
    "set(M)"
   ]
  },
  {
   "cell_type": "code",
   "execution_count": 11,
   "metadata": {},
   "outputs": [
    {
     "data": {
      "text/plain": [
       "{'Learning',\n",
       " 'Machine',\n",
       " 'computers',\n",
       " 'easier.',\n",
       " 'fun.',\n",
       " 'is',\n",
       " 'languages',\n",
       " 'learning',\n",
       " 'makes',\n",
       " 'natural',\n",
       " 'so'}"
      ]
     },
     "execution_count": 11,
     "metadata": {},
     "output_type": "execute_result"
    }
   ],
   "source": [
    "set(M_no_space)"
   ]
  },
  {
   "cell_type": "code",
   "execution_count": 12,
   "metadata": {},
   "outputs": [],
   "source": [
    "Work = \"Coding requires practice in order to make perfect.\""
   ]
  },
  {
   "cell_type": "code",
   "execution_count": 16,
   "metadata": {},
   "outputs": [
    {
     "data": {
      "text/plain": [
       "['is', 'so', 'fun.', 'makes']"
      ]
     },
     "execution_count": 16,
     "metadata": {},
     "output_type": "execute_result"
    }
   ],
   "source": [
    "[p for p in M_no_space if len(p) < 6]"
   ]
  },
  {
   "cell_type": "code",
   "execution_count": 17,
   "metadata": {},
   "outputs": [
    {
     "data": {
      "text/plain": [
       "10"
      ]
     },
     "execution_count": 17,
     "metadata": {},
     "output_type": "execute_result"
    }
   ],
   "source": [
    "len(set([a.lower() for a in M_no_space]) ) #to count the number of lowercases within the string"
   ]
  },
  {
   "cell_type": "code",
   "execution_count": 18,
   "metadata": {},
   "outputs": [],
   "source": [
    "stripWork = Work.strip() "
   ]
  },
  {
   "cell_type": "code",
   "execution_count": 19,
   "metadata": {},
   "outputs": [
    {
     "data": {
      "text/plain": [
       "'Coding requires practice in order to make perfect.'"
      ]
     },
     "execution_count": 19,
     "metadata": {},
     "output_type": "execute_result"
    }
   ],
   "source": [
    "stripWork"
   ]
  },
  {
   "cell_type": "code",
   "execution_count": 23,
   "metadata": {},
   "outputs": [
    {
     "data": {
      "text/plain": [
       "['Coding', 'requires', 'practice', 'in', 'order', 'to', 'make', 'perfect.']"
      ]
     },
     "execution_count": 23,
     "metadata": {},
     "output_type": "execute_result"
    }
   ],
   "source": [
    "stripWork.split(' ')"
   ]
  },
  {
   "cell_type": "code",
   "execution_count": 28,
   "metadata": {},
   "outputs": [],
   "source": [
    "Fullname = 'my name is Mr. Charles Igah.'\n",
    "realFullname = Fullname.split()\n"
   ]
  },
  {
   "cell_type": "code",
   "execution_count": 27,
   "metadata": {},
   "outputs": [
    {
     "data": {
      "text/plain": [
       "['M', 'C', 'I']"
      ]
     },
     "execution_count": 27,
     "metadata": {},
     "output_type": "execute_result"
    }
   ],
   "source": [
    "#to get a list of the full name in Capital letters 'isTitle()'\n",
    "\n",
    "[Cl for Cl in Fullname if Cl.istitle()]"
   ]
  },
  {
   "cell_type": "code",
   "execution_count": 29,
   "metadata": {},
   "outputs": [
    {
     "data": {
      "text/plain": [
       "['Mr.', 'Charles', 'Igah.']"
      ]
     },
     "execution_count": 29,
     "metadata": {},
     "output_type": "execute_result"
    }
   ],
   "source": [
    "[Cl for Cl in realFullname if Cl.istitle()]"
   ]
  },
  {
   "cell_type": "code",
   "execution_count": null,
   "metadata": {},
   "outputs": [],
   "source": []
  }
 ],
 "metadata": {
  "kernelspec": {
   "display_name": "Python 3",
   "language": "python",
   "name": "python3"
  },
  "language_info": {
   "codemirror_mode": {
    "name": "ipython",
    "version": 3
   },
   "file_extension": ".py",
   "mimetype": "text/x-python",
   "name": "python",
   "nbconvert_exporter": "python",
   "pygments_lexer": "ipython3",
   "version": "3.8.5"
  }
 },
 "nbformat": 4,
 "nbformat_minor": 2
}
