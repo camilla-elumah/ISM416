{
 "cells": [
  {
   "cell_type": "markdown",
   "metadata": {},
   "source": [
    "# `Note:` All assignment should be done inside the notebook (Double tap on each of this text to edit)."
   ]
  },
  {
   "cell_type": "markdown",
   "metadata": {},
   "source": [
    "### `Question 1`: Write your full name and your   \n",
    "### Matriculation number"
   ]
  },
  {
   "cell_type": "raw",
   "metadata": {},
   "source": [
    "Isioma Elumah Anna 17100310861"
   ]
  },
  {
   "cell_type": "markdown",
   "metadata": {},
   "source": [
    "### `Question 2`: What do you understand by natural language processing ?"
   ]
  },
  {
   "cell_type": "raw",
   "metadata": {},
   "source": [
    "Natural Language Processing is very much linked with machine learning.It is a branch of computer science that deals with giving computers the ability to understand text and verbal language as naturally as human beings can. Natuaral Language Processing is a combination of computational linguistics with statistical machine learning and deep learning models. Several applications  of Natural Language Processing include speech recognition, word disambiguation, sentiment analysis and natural language generation. The main aim of NLP is to identify, compare, comprehend and make sense of the human languages in such a way that it adds value. It is a technology used to assist computers to understand the natural languages that human beings speak or write down. \n",
    "\n",
    "Some uses of Natural Language Processing include; It helps the computers to understant texts, interpret speech and to measure sentiments.\n",
    "It is also used for structuring unstructured dataand it helps settle ambiguity in  the diversity of human languages.\n",
    "\n",
    "Natural Language processing works by applying algorithms to know and extract the natural language rules in order to convert it into data that the computer understands. techniques used in natural language processing include syntactic analysis and semantic analysis. Syntactical analysis connotes the arrangement of words, characters and letters in such a manner that they make grammatical sense. Semantic ananlysis deals with the application of computer algorithms to generate the meaning of words and how natural sentences are structured.\n"
   ]
  },
  {
   "cell_type": "markdown",
   "metadata": {},
   "source": [
    "### `Question 3`: List some of the applications of natural language processing"
   ]
  },
  {
   "cell_type": "raw",
   "metadata": {},
   "source": [
    "Applications of natural language processing include:\n",
    "    Email filters,\n",
    "    smart assistants,\n",
    "    Search results on Search engines,\n",
    "    Language translation,\n",
    "    Digital phone calls,\n",
    "    Predictive text,\n",
    "    Data analysis,\n",
    "    Text analytics.\n",
    "    \n",
    "Email filters such as spam filters which scans through the email messages to uncover words and phrases that signal a spam message.\n",
    "\n",
    "Smart assistants make use of the speech recognition application of NLP to derive meaning and then provide a valuable response to the user.\n",
    "\n",
    "Predictive text addresses issues such as autocorrect and autocomplete which are commonly found in smartphones or search engines.\n",
    "\n",
    "Language translation, with the aid of NLP, recognize languages based on inputted text and translates them from one human language to another.\n",
    "\n",
    "Digital phone calls occur when automated computer systems push customer calls to a service representative or online chatbot that responds to customer requests with helpful knowledge.\n",
    "\n",
    "Text analytics aid in the coversion of unstructured data into meaningful data for analysis using different NLP techniques."
   ]
  },
  {
   "cell_type": "markdown",
   "metadata": {},
   "source": [
    "### `Question 4`: What are some of the challenges of NLP?"
   ]
  },
  {
   "cell_type": "raw",
   "metadata": {},
   "source": [
    "NLP faces several challenges such as having some rules that are low-levelled e.g using the character 's' to signify the plurality of items. It is easier for human beings to master a language, however it is much harder to master languages in NLP because of the ambigiuty and imprecise characteristics of the natural language.\n",
    "\n",
    "More challenges to come...."
   ]
  },
  {
   "cell_type": "markdown",
   "metadata": {},
   "source": [
    "### `Question 5`: Using some of the string operations learnt from this weeks topic (like: `set(), istitle(), split(), replace(), etc.`)\n",
    "### Declear 4 different strings (sentences) and apply the functions/methods."
   ]
  },
  {
   "cell_type": "markdown",
   "metadata": {},
   "source": [
    ">>>> # Have a wonderful week ahead."
   ]
  },
  {
   "cell_type": "code",
   "execution_count": null,
   "metadata": {},
   "outputs": [],
   "source": []
  }
 ],
 "metadata": {
  "kernelspec": {
   "display_name": "Python 3",
   "language": "python",
   "name": "python3"
  },
  "language_info": {
   "codemirror_mode": {
    "name": "ipython",
    "version": 3
   },
   "file_extension": ".py",
   "mimetype": "text/x-python",
   "name": "python",
   "nbconvert_exporter": "python",
   "pygments_lexer": "ipython3",
   "version": "3.8.5"
  }
 },
 "nbformat": 4,
 "nbformat_minor": 2
}
